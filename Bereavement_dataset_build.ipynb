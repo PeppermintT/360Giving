{
 "cells": [
  {
   "cell_type": "markdown",
   "metadata": {},
   "source": [
    "## Mining the 360 Giving database for information related to Bereavement Services: building the dataset"
   ]
  },
  {
   "cell_type": "markdown",
   "metadata": {},
   "source": [
    "This notebook sets out the steps for building the dataset used in the analysis on grant funding for bereavement related services. The database used is the 360Giving database called GrantNav https://grantnav.threesixtygiving.org/\n",
    "\n",
    "### Step 1: Extracting the data from GrantNav\n",
    "The following search terms were agreed: bereaved, bereavement, bereave*, grief, grieving, widowed. No wildcard search is possible in GrantNav. \"Bereaved\" and \"bereavement\" gave the same results, based on the root \"bereave\". So four data extracts were downloaded in CSV files to manipulate further.\n",
    "\n",
    "### Step 2: Read data extracts into Jupyter notebook, concatonate and de-duplicate\n",
    "Read in the data; check shapes; concatonate; de-duplicate to arrive at a single dataframe.\n",
    "\n",
    "### Step 3: Drop early data; focus on past 5 years.\n",
    "\n",
    "We have looked at the last five financial years, not including the current financial year. (2015/6 to 2019/20).\n"
   ]
  },
  {
   "cell_type": "code",
   "execution_count": 1,
   "metadata": {},
   "outputs": [
    {
     "name": "stdout",
     "output_type": "stream",
     "text": [
      "1. Succesfully imported necessary modules\n",
      "\n"
     ]
    }
   ],
   "source": [
    "# Import the modules and packages \n",
    "\n",
    "from platform import python_version # be clear about version of python\n",
    "import pandas as pd # pandas is a package for data wrangling, manipulation & analysis\n",
    "import matplotlib.pyplot as plt #plotting package\n",
    "import datetime as dt\n",
    "\n",
    "print(\"1. Succesfully imported necessary modules\")    \n",
    "print(\"\")"
   ]
  },
  {
   "cell_type": "code",
   "execution_count": 2,
   "metadata": {},
   "outputs": [
    {
     "name": "stdout",
     "output_type": "stream",
     "text": [
      "python version==3.6.5\n",
      "pandas==0.23.0\n"
     ]
    }
   ],
   "source": [
    "print(\"python version==%s\" % python_version())\n",
    "print(\"pandas==%s\" % pd.__version__)\n"
   ]
  },
  {
   "cell_type": "code",
   "execution_count": 3,
   "metadata": {},
   "outputs": [],
   "source": [
    "#Presenting non trunctated output\n",
    "#Set presentation options\n",
    "pd.options.display.max_columns = 80 # to avoid truncated output \n",
    "pd.options.display.max_rows = 250 #\n",
    "pd.options.display.max_colwidth = 250 # avoid truncating cell content"
   ]
  },
  {
   "cell_type": "markdown",
   "metadata": {},
   "source": [
    "### Step 2: Read data extracts into Jupyter Notebook, merge and de-duplicate"
   ]
  },
  {
   "cell_type": "code",
   "execution_count": 4,
   "metadata": {},
   "outputs": [],
   "source": [
    "#Set up a list of the files containting the data extracts of interest\n",
    "GrantNav_datafiles = [\n",
    "    \"grantnav_bereaved.csv\",\n",
    "    \"grantnav_grief.csv\",\n",
    "    \"grantnav_grieving.csv\",\n",
    "    \"grantnav_widowed.csv\"\n",
    "    ]\n",
    "#Create empty dictionary\n",
    "data = {}\n",
    "# Iterate over the list, drop file ending, add to dictionary\n",
    "for f in GrantNav_datafiles:\n",
    "    #tell it where to go look for the data\n",
    "    d = pd.read_csv(\"C:/Users/sonja/Desktop/Life_Admin/Bereavement_Services/GrantNav_data/{0}\".format(f))\n",
    "    key_name = f.replace(\".csv\", \"\")\n",
    "    data[key_name] = d\n",
    "    "
   ]
  },
  {
   "cell_type": "code",
   "execution_count": 5,
   "metadata": {},
   "outputs": [
    {
     "name": "stdout",
     "output_type": "stream",
     "text": [
      "(1733, 79)\n",
      "(185, 79)\n",
      "(38, 79)\n",
      "(2052, 79)\n"
     ]
    }
   ],
   "source": [
    "#Let's look at the shape of these four data extracts\n",
    "for k in data:\n",
    "    print(data[k].shape) "
   ]
  },
  {
   "cell_type": "markdown",
   "metadata": {},
   "source": [
    "We have 79 columns in each data extract; this is as expected.  \n",
    "We are going to concatonate the four (expecting 4008 rows) before deduping"
   ]
  },
  {
   "cell_type": "code",
   "execution_count": 6,
   "metadata": {},
   "outputs": [],
   "source": [
    "#Loop through each key in the data dictionary. \n",
    "#Display first five rows of the dataframe associated with the key.\n",
    "#for k in data:\n",
    " #   print(data[k].head(3)) "
   ]
  },
  {
   "cell_type": "code",
   "execution_count": 7,
   "metadata": {},
   "outputs": [],
   "source": [
    "concat_data = pd.concat([data [\"grantnav_bereaved\"], data [\"grantnav_grief\"], \n",
    "                    data [\"grantnav_grieving\"], data [\"grantnav_widowed\"]], sort = False)"
   ]
  },
  {
   "cell_type": "code",
   "execution_count": 8,
   "metadata": {},
   "outputs": [
    {
     "data": {
      "text/plain": [
       "(4008, 79)"
      ]
     },
     "execution_count": 8,
     "metadata": {},
     "output_type": "execute_result"
    }
   ],
   "source": [
    "concat_data.shape"
   ]
  },
  {
   "cell_type": "code",
   "execution_count": 9,
   "metadata": {},
   "outputs": [],
   "source": [
    "#De-Dupe the dataframe\n",
    "\n",
    "data_deduped = concat_data.drop_duplicates() # default is to use all of the columns to identify duplicates which \n",
    "#fine for our purposes here"
   ]
  },
  {
   "cell_type": "code",
   "execution_count": 10,
   "metadata": {},
   "outputs": [
    {
     "data": {
      "text/plain": [
       "(3863, 79)"
      ]
     },
     "execution_count": 10,
     "metadata": {},
     "output_type": "execute_result"
    }
   ],
   "source": [
    "data_deduped.shape # we have lost a few hundred rows"
   ]
  },
  {
   "cell_type": "code",
   "execution_count": 11,
   "metadata": {},
   "outputs": [],
   "source": [
    "# Replace the space in all the column headers\n",
    "data_deduped.columns = data_deduped.columns.str.replace(' ', '_')"
   ]
  },
  {
   "cell_type": "markdown",
   "metadata": {},
   "source": [
    "### Step 3: Focus on last 5 years "
   ]
  },
  {
   "cell_type": "code",
   "execution_count": 12,
   "metadata": {},
   "outputs": [
    {
     "name": "stderr",
     "output_type": "stream",
     "text": [
      "C:\\Users\\sonja\\Anaconda3\\lib\\site-packages\\ipykernel_launcher.py:2: SettingWithCopyWarning: \n",
      "A value is trying to be set on a copy of a slice from a DataFrame.\n",
      "Try using .loc[row_indexer,col_indexer] = value instead\n",
      "\n",
      "See the caveats in the documentation: http://pandas.pydata.org/pandas-docs/stable/indexing.html#indexing-view-versus-copy\n",
      "  \n"
     ]
    }
   ],
   "source": [
    "#Need to ensure the award date column is a datetime object (rather than some other type of data type)\n",
    "data_deduped [\"Award_Date\"] = pd.to_datetime( data_deduped [\"Award_Date\"])\n",
    "# This error message doesn't seem to have affected the output - the col content is now datetime rather than \n",
    "#and object. So we carry on."
   ]
  },
  {
   "cell_type": "code",
   "execution_count": 13,
   "metadata": {},
   "outputs": [
    {
     "data": {
      "text/plain": [
       "Identifier                                                                                                                                                                                                                                                                                                      object\n",
       "Title                                                                                                                                                                                                                                                                                                           object\n",
       "Description                                                                                                                                                                                                                                                                                                     object\n",
       "Currency                                                                                                                                                                                                                                                                                                        object\n",
       "Amount_Applied_For                                                                                                                                                                                                                                                                                             float64\n",
       "Amount_Awarded                                                                                                                                                                                                                                                                                                 float64\n",
       "Amount_Disbursed                                                                                                                                                                                                                                                                                               float64\n",
       "Award_Date                                                                                                                                                                                                                                                                                              datetime64[ns]\n",
       "URL                                                                                                                                                                                                                                                                                                             object\n",
       "Planned_Dates:Start_Date                                                                                                                                                                                                                                                                                        object\n",
       "Planned_Dates:End_Date                                                                                                                                                                                                                                                                                          object\n",
       "Planned_Dates:Duration_(months)                                                                                                                                                                                                                                                                                float64\n",
       "Actual_Dates:Start_Date                                                                                                                                                                                                                                                                                        float64\n",
       "Actual_Dates:End_Date                                                                                                                                                                                                                                                                                          float64\n",
       "Actual_Dates:Duration_(months)                                                                                                                                                                                                                                                                                 float64\n",
       "Recipient_Org:Identifier                                                                                                                                                                                                                                                                                        object\n",
       "Recipient_Org:Name                                                                                                                                                                                                                                                                                              object\n",
       "Recipient_Org:Charity_Number                                                                                                                                                                                                                                                                                    object\n",
       "Recipient_Org:Company_Number                                                                                                                                                                                                                                                                                    object\n",
       "Recipient_Org:Postal_Code                                                                                                                                                                                                                                                                                       object\n",
       "Recipient_Org:Location:0:Geographic_Code_Type                                                                                                                                                                                                                                                                   object\n",
       "Recipient_Org:Location:0:Geographic_Code                                                                                                                                                                                                                                                                        object\n",
       "Recipient_Org:Location:0:Name                                                                                                                                                                                                                                                                                   object\n",
       "Recipient_Org:Location:1:Geographic_Code_Type                                                                                                                                                                                                                                                                   object\n",
       "Recipient_Org:Location:1:Geographic_Code                                                                                                                                                                                                                                                                        object\n",
       "Recipient_Org:Location:1:Name                                                                                                                                                                                                                                                                                   object\n",
       "Recipient_Org:Location:2:Geographic_Code_Type                                                                                                                                                                                                                                                                   object\n",
       "Recipient_Org:Location:2:Geographic_Code                                                                                                                                                                                                                                                                        object\n",
       "Recipient_Org:Location:2:Name                                                                                                                                                                                                                                                                                   object\n",
       "Funding_Org:Identifier                                                                                                                                                                                                                                                                                          object\n",
       "Funding_Org:Name                                                                                                                                                                                                                                                                                                object\n",
       "Funding_Org:Postal_Code                                                                                                                                                                                                                                                                                         object\n",
       "Grant_Programme:Code                                                                                                                                                                                                                                                                                            object\n",
       "Grant_Programme:Title                                                                                                                                                                                                                                                                                           object\n",
       "Grant_Programme:URL                                                                                                                                                                                                                                                                                             object\n",
       "Beneficiary_Location:0:Name                                                                                                                                                                                                                                                                                     object\n",
       "Beneficiary_Location:0:Country_Code                                                                                                                                                                                                                                                                             object\n",
       "Beneficiary_Location:0:Geographic_Code                                                                                                                                                                                                                                                                          object\n",
       "Beneficiary_Location:0:Geographic_Code_Type                                                                                                                                                                                                                                                                     object\n",
       "Beneficiary_Location:1:Name                                                                                                                                                                                                                                                                                     object\n",
       "Beneficiary_Location:1:Country_Code                                                                                                                                                                                                                                                                             object\n",
       "Beneficiary_Location:1:Geographic_Code                                                                                                                                                                                                                                                                          object\n",
       "Beneficiary_Location:1:Geographic_Code_Type                                                                                                                                                                                                                                                                     object\n",
       "Beneficiary_Location:2:Name                                                                                                                                                                                                                                                                                    float64\n",
       "Beneficiary_Location:2:Country_Code                                                                                                                                                                                                                                                                             object\n",
       "Beneficiary_Location:2:Geographic_Code                                                                                                                                                                                                                                                                          object\n",
       "Beneficiary_Location:2:Geographic_Code_Type                                                                                                                                                                                                                                                                     object\n",
       "Beneficiary_Location:3:Name                                                                                                                                                                                                                                                                                    float64\n",
       "Beneficiary_Location:3:Country_Code                                                                                                                                                                                                                                                                             object\n",
       "Beneficiary_Location:3:Geographic_Code                                                                                                                                                                                                                                                                          object\n",
       "Beneficiary_Location:3:Geographic_Code_Type                                                                                                                                                                                                                                                                     object\n",
       "Beneficiary_Location:4:Name                                                                                                                                                                                                                                                                                    float64\n",
       "Beneficiary_Location:4:Country_Code                                                                                                                                                                                                                                                                            float64\n",
       "Beneficiary_Location:4:Geographic_Code                                                                                                                                                                                                                                                                         float64\n",
       "Beneficiary_Location:4:Geographic_Code_Type                                                                                                                                                                                                                                                                    float64\n",
       "Beneficiary_Location:5:Name                                                                                                                                                                                                                                                                                    float64\n",
       "Beneficiary_Location:5:Country_Code                                                                                                                                                                                                                                                                            float64\n",
       "Beneficiary_Location:5:Geographic_Code                                                                                                                                                                                                                                                                         float64\n",
       "Beneficiary_Location:5:Geographic_Code_Type                                                                                                                                                                                                                                                                    float64\n",
       "Beneficiary_Location:6:Name                                                                                                                                                                                                                                                                                    float64\n",
       "Beneficiary_Location:6:Country_Code                                                                                                                                                                                                                                                                            float64\n",
       "Beneficiary_Location:6:Geographic_Code                                                                                                                                                                                                                                                                         float64\n",
       "Beneficiary_Location:6:Geographic_Code_Type                                                                                                                                                                                                                                                                    float64\n",
       "Beneficiary_Location:7:Name                                                                                                                                                                                                                                                                                    float64\n",
       "Beneficiary_Location:7:Country_Code                                                                                                                                                                                                                                                                            float64\n",
       "Beneficiary_Location:7:Geographic_Code                                                                                                                                                                                                                                                                         float64\n",
       "Beneficiary_Location:7:Geographic_Code_Type                                                                                                                                                                                                                                                                    float64\n",
       "From_An_Open_Call?                                                                                                                                                                                                                                                                                              object\n",
       "The_following_fields_are_not_in_the_360_Giving_Standard_and_are_added_by_GrantNav.                                                                                                                                                                                                                             float64\n",
       "Data_Source                                                                                                                                                                                                                                                                                                     object\n",
       "Publisher:Name                                                                                                                                                                                                                                                                                                  object\n",
       "Recipient_Region                                                                                                                                                                                                                                                                                                object\n",
       "Recipient_District                                                                                                                                                                                                                                                                                              object\n",
       "Recipient_District_Geographic_Code                                                                                                                                                                                                                                                                              object\n",
       "Recipient_Ward                                                                                                                                                                                                                                                                                                  object\n",
       "Recipient_Ward_Geographic_Code                                                                                                                                                                                                                                                                                  object\n",
       "Retrieved_for_use_in_GrantNav                                                                                                                                                                                                                                                                                   object\n",
       "License_(see_note)                                                                                                                                                                                                                                                                                              object\n",
       "Note,_this_file_also_contains_OS_data_©_Crown_copyright_and_database_right_2016,_Royal_Mail_data_©_Royal_Mail_copyright_and_Database_right_2016,_National_Statistics_data_©_Crown_copyright_and_database_right_2015_&_2016,_see_http://grantnav.threesixtygiving.org/datasets/_for_more_information.           float64\n",
       "dtype: object"
      ]
     },
     "execution_count": 13,
     "metadata": {},
     "output_type": "execute_result"
    }
   ],
   "source": [
    "data_deduped.dtypes\n",
    "#Checked it's a datetime data type"
   ]
  },
  {
   "cell_type": "code",
   "execution_count": 14,
   "metadata": {},
   "outputs": [],
   "source": [
    "# Select rows where the date is between 31 March 2015 and 1 April 2020\n",
    "\n",
    "data_5yrs = data_deduped[data_deduped.Award_Date.between('2015-03-31', '2020-04-01')]"
   ]
  },
  {
   "cell_type": "code",
   "execution_count": 15,
   "metadata": {},
   "outputs": [
    {
     "data": {
      "text/plain": [
       "(1139, 79)"
      ]
     },
     "execution_count": 15,
     "metadata": {},
     "output_type": "execute_result"
    }
   ],
   "source": [
    "data_5yrs.shape"
   ]
  },
  {
   "cell_type": "code",
   "execution_count": 16,
   "metadata": {},
   "outputs": [],
   "source": [
    "#Export to csv\n",
    "data_5yrs.to_csv ('C:/Users/sonja/Desktop/Life_Admin/Bereavement_Services/data_5yrs.csv', \n",
    "                  index = False, header=True)"
   ]
  }
 ],
 "metadata": {
  "kernelspec": {
   "display_name": "Python 3",
   "language": "python",
   "name": "python3"
  },
  "language_info": {
   "codemirror_mode": {
    "name": "ipython",
    "version": 3
   },
   "file_extension": ".py",
   "mimetype": "text/x-python",
   "name": "python",
   "nbconvert_exporter": "python",
   "pygments_lexer": "ipython3",
   "version": "3.6.5"
  }
 },
 "nbformat": 4,
 "nbformat_minor": 2
}
